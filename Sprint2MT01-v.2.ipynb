{
 "cells": [
  {
   "cell_type": "markdown",
   "id": "dee55b27",
   "metadata": {},
   "source": [
    "#M2 T01"
   ]
  },
  {
   "cell_type": "markdown",
   "id": "5627fd47",
   "metadata": {},
   "source": [
    "#Exercici 1\n",
    "#Cal crear una llista que agrupi els mesos de l'any en trimestres, és a dir, una llista amb quatre llistes."
   ]
  },
  {
   "cell_type": "code",
   "execution_count": 79,
   "id": "7feab29e-8816-42bc-9bb7-76103d8614b4",
   "metadata": {},
   "outputs": [
    {
     "name": "stdout",
     "output_type": "stream",
     "text": [
      "[['Enero', 'Febrero', 'Marzo'], ['Abril', 'Mayo', 'Junio'], ['Julio', 'Agosto', 'Septiembre'], ['Octubre', 'Noviembre', 'Diciembre']]\n"
     ]
    }
   ],
   "source": [
    "listaT1 = [\"Enero\", \"Febrero\", \"Marzo\"]\n",
    "listaT2 = [\"Abril\", \"Mayo\", \"Junio\"]\n",
    "listaT3 = [\"Julio\", \"Agosto\", \"Septiembre\"]\n",
    "listaT4 = [\"Octubre\", \"Noviembre\", \"Diciembre\"]\n",
    "\n",
    "lista_anualidad = [listaT1, listaT2, listaT3, listaT4]\n",
    "print(lista_anualidad)\n"
   ]
  },
  {
   "cell_type": "markdown",
   "id": "f03cf229",
   "metadata": {},
   "source": [
    "#Exercici 2\n",
    "\n",
    "#Crea un codi que permeti accedir al segon mes del primer trimestre."
   ]
  },
  {
   "cell_type": "code",
   "execution_count": 80,
   "id": "c425f254-a26c-4d59-91e4-72fab01b2db4",
   "metadata": {},
   "outputs": [
    {
     "name": "stdout",
     "output_type": "stream",
     "text": [
      "Febrero\n"
     ]
    }
   ],
   "source": [
    "posicion_trimestre=0\n",
    "x=lista_anualidad[posicion_trimestre]\n",
    "print(x[1])\n"
   ]
  },
  {
   "cell_type": "markdown",
   "id": "5bac7d04",
   "metadata": {},
   "source": [
    "#Crea un codi que permeti accedir els mesos del primer trimestre."
   ]
  },
  {
   "cell_type": "code",
   "execution_count": 81,
   "id": "5cfdf15a-2c2f-4ddf-826c-f407164aba0e",
   "metadata": {},
   "outputs": [
    {
     "name": "stdout",
     "output_type": "stream",
     "text": [
      "['Enero', 'Febrero', 'Marzo']\n"
     ]
    }
   ],
   "source": [
    "print(lista_anualidad[0])"
   ]
  },
  {
   "cell_type": "markdown",
   "id": "02882f46",
   "metadata": {},
   "source": [
    "#Crea un codi que permeti accedir a setembre i octubre."
   ]
  },
  {
   "cell_type": "code",
   "execution_count": 82,
   "id": "4c00d125-27e8-459e-9fa9-f3d2c8f1a390",
   "metadata": {},
   "outputs": [
    {
     "name": "stdout",
     "output_type": "stream",
     "text": [
      "Septiembre Octubre\n"
     ]
    }
   ],
   "source": [
    "print(listaT3[2], listaT4[0])"
   ]
  },
  {
   "cell_type": "markdown",
   "id": "66384b95",
   "metadata": {},
   "source": [
    "#Exercici 3\n",
    "\n",
    "#Crea una llista amb nombres desordenats i respón a les preguntes:"
   ]
  },
  {
   "cell_type": "code",
   "execution_count": 83,
   "id": "1fe63339-f9e8-4fd1-996e-f034127ac135",
   "metadata": {},
   "outputs": [
    {
     "name": "stdout",
     "output_type": "stream",
     "text": [
      "[2, 3, 23, 7, 8, 5, 15, 3, 0, 10, 35, 6, 4, 42, 28]\n",
      "<class 'list'>\n"
     ]
    }
   ],
   "source": [
    "lista_numeros=[2,3,23,7,8,5,15,3,0,10,35,6,4,42,28]\n",
    "print(lista_numeros)\n",
    "print(type(lista_numeros))\n"
   ]
  },
  {
   "cell_type": "markdown",
   "id": "ffdea4ef",
   "metadata": {},
   "source": [
    "#Quants números hi ha?"
   ]
  },
  {
   "cell_type": "code",
   "execution_count": 84,
   "id": "a6b8b6fe-389d-4662-933d-3f1a7555b0e9",
   "metadata": {},
   "outputs": [
    {
     "name": "stdout",
     "output_type": "stream",
     "text": [
      "15\n"
     ]
    }
   ],
   "source": [
    "print(len(lista_numeros))"
   ]
  },
  {
   "cell_type": "markdown",
   "id": "8789b1db",
   "metadata": {},
   "source": [
    "#Quantes vegades apareix el número 3?"
   ]
  },
  {
   "cell_type": "code",
   "execution_count": 85,
   "id": "f9b84699-fab8-4643-a796-9c18a08f7843",
   "metadata": {},
   "outputs": [
    {
     "data": {
      "text/plain": [
       "2"
      ]
     },
     "execution_count": 85,
     "metadata": {},
     "output_type": "execute_result"
    }
   ],
   "source": [
    "lista_numeros.count(3)\n"
   ]
  },
  {
   "cell_type": "markdown",
   "id": "c4b0f3fa",
   "metadata": {},
   "source": [
    "#Quantes vegades apareixen els nombres 3 i 4?"
   ]
  },
  {
   "cell_type": "code",
   "execution_count": 86,
   "id": "c997b288-04e8-429c-a5ed-60b7701004ed",
   "metadata": {},
   "outputs": [
    {
     "name": "stdout",
     "output_type": "stream",
     "text": [
      "El número 3 apareix  2 vegades, i el número 4 apareix  1 vegades.\n"
     ]
    }
   ],
   "source": [
    "x=lista_numeros.count(3)\n",
    "y=lista_numeros.count(4)\n",
    "\n",
    "print(\"El número 3 apareix \", x, \"vegades, i el número 4 apareix \", y, \"vegades.\")\n",
    "\n"
   ]
  },
  {
   "cell_type": "markdown",
   "id": "6a96b210",
   "metadata": {},
   "source": [
    "#Quin és el número més gran?"
   ]
  },
  {
   "cell_type": "code",
   "execution_count": 87,
   "id": "7a24260b-f342-42ce-bd74-d020bd5ff7ce",
   "metadata": {},
   "outputs": [
    {
     "name": "stdout",
     "output_type": "stream",
     "text": [
      "[0, 2, 3, 3, 4, 5, 6, 7, 8, 10, 15, 23, 28, 35, 42]\n",
      "15\n",
      "42\n",
      "El número més gran és el  42 .\n"
     ]
    }
   ],
   "source": [
    "lista_numeros.sort()\n",
    "print(lista_numeros)\n",
    "print(len(lista_numeros))\n",
    "print(lista_numeros[len(lista_numeros)-1])\n",
    "z=lista_numeros[len(lista_numeros)-1]\n",
    "print(\"El número més gran és el \",z,\".\")\n",
    "\n"
   ]
  },
  {
   "cell_type": "markdown",
   "id": "6259f6f6",
   "metadata": {},
   "source": [
    "#Quins son els tres números més petits?"
   ]
  },
  {
   "cell_type": "code",
   "execution_count": 88,
   "id": "ad5fce57-cb47-4063-9f51-2238da04f9c3",
   "metadata": {},
   "outputs": [
    {
     "name": "stdout",
     "output_type": "stream",
     "text": [
      "0\n",
      "2\n",
      "3\n"
     ]
    }
   ],
   "source": [
    "for i in range(0,3):\n",
    "    print(lista_numeros[i])\n",
    " \n",
    "    \n",
    "\n",
    "\n"
   ]
  },
  {
   "cell_type": "markdown",
   "id": "34c89f63",
   "metadata": {},
   "source": [
    "#Quin és el rang d'aquesta llista?"
   ]
  },
  {
   "cell_type": "code",
   "execution_count": 89,
   "id": "87d6abbc-baef-4d62-af2c-0b2b24876615",
   "metadata": {},
   "outputs": [
    {
     "name": "stdout",
     "output_type": "stream",
     "text": [
      "El rango de la lista es  14 .\n"
     ]
    }
   ],
   "source": [
    "rango=len(lista_numeros)-1\n",
    "print(\"El rango de la lista es \",rango,\".\")\n",
    "\n",
    "\n",
    "\n",
    "\n",
    "\n"
   ]
  }
 ],
 "metadata": {
  "kernelspec": {
   "display_name": "Python 3 (ipykernel)",
   "language": "python",
   "name": "python3"
  },
  "language_info": {
   "codemirror_mode": {
    "name": "ipython",
    "version": 3
   },
   "file_extension": ".py",
   "mimetype": "text/x-python",
   "name": "python",
   "nbconvert_exporter": "python",
   "pygments_lexer": "ipython3",
   "version": "3.10.9"
  }
 },
 "nbformat": 4,
 "nbformat_minor": 5
}
